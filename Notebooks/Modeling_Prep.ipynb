{
 "cells": [
  {
   "cell_type": "code",
   "execution_count": 22,
   "metadata": {},
   "outputs": [],
   "source": [
    "import pandas as pd\n",
    "from sklearn.model_selection import train_test_split"
   ]
  },
  {
   "cell_type": "code",
   "execution_count": 23,
   "metadata": {},
   "outputs": [
    {
     "name": "stderr",
     "output_type": "stream",
     "text": [
      "/tmp/ipykernel_14018/3279093290.py:1: DtypeWarning: Columns (8,34,52) have mixed types. Specify dtype option on import or set low_memory=False.\n",
      "  rsp_df = pd.read_csv(\"../Data/processed/dataset_2016-19_target\")\n"
     ]
    }
   ],
   "source": [
    "rsp_df = pd.read_csv(\"../Data/processed/dataset_2016-19_target\")"
   ]
  },
  {
   "cell_type": "markdown",
   "metadata": {},
   "source": [
    "#### Modeling Prep"
   ]
  },
  {
   "cell_type": "code",
   "execution_count": 24,
   "metadata": {},
   "outputs": [],
   "source": [
    "# Drop constructed variables\n",
    "\n",
    "columns_to_drop = [col for col in rsp_df.columns if col.startswith(\"ui_\")]\n",
    "rsp_df.drop(columns_to_drop, axis=1, inplace=True)"
   ]
  },
  {
   "cell_type": "markdown",
   "metadata": {},
   "source": [
    "#### Split and Output"
   ]
  },
  {
   "cell_type": "code",
   "execution_count": 25,
   "metadata": {},
   "outputs": [],
   "source": [
    "# Train/test/validation split - 70 - 15 - 15\n",
    "y = rsp_df[\"t_resettlement\"]\n",
    "X = rsp_df.drop(\"t_resettlement\", axis=1)\n",
    "\n",
    "# 1st split\n",
    "X_train, X_test, y_train, y_test = train_test_split(\n",
    "    X, y, test_size=0.15, random_state=42\n",
    ")\n",
    "\n",
    "# 2nd split\n",
    "X_train, X_val, y_train, y_val = train_test_split(\n",
    "    X_train, y_train, test_size=(15 / 85), random_state=42\n",
    ")\n",
    "\n",
    "# Output\n",
    "X_train.to_csv(\"../Data/final/supervised/X_train\", index=False)\n",
    "y_train.to_csv(\"../Data/final/supervised/y_train\", index=False)\n",
    "\n",
    "X_test.to_csv(\"../Data/final/supervised/X_test\", index=False)\n",
    "y_test.to_csv(\"../Data/final/supervised/y_test\", index=False)\n",
    "\n",
    "X_val.to_csv(\"../Data/final/supervised/X_val\", index=False)\n",
    "y_val.to_csv(\"../Data/final/supervised/y_val\", index=False)"
   ]
  },
  {
   "cell_type": "code",
   "execution_count": null,
   "metadata": {},
   "outputs": [],
   "source": []
  }
 ],
 "metadata": {
  "kernelspec": {
   "display_name": ".venv",
   "language": "python",
   "name": "python3"
  },
  "language_info": {
   "codemirror_mode": {
    "name": "ipython",
    "version": 3
   },
   "file_extension": ".py",
   "mimetype": "text/x-python",
   "name": "python",
   "nbconvert_exporter": "python",
   "pygments_lexer": "ipython3",
   "version": "3.10.12"
  }
 },
 "nbformat": 4,
 "nbformat_minor": 2
}
