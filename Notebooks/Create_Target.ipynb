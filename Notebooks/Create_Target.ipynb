{
 "cells": [
  {
   "cell_type": "code",
   "execution_count": 49,
   "metadata": {},
   "outputs": [],
   "source": [
    "import pandas as pd"
   ]
  },
  {
   "cell_type": "code",
   "execution_count": 50,
   "metadata": {},
   "outputs": [
    {
     "name": "stderr",
     "output_type": "stream",
     "text": [
      "/tmp/ipykernel_11996/339842733.py:1: DtypeWarning: Columns (8,34,52) have mixed types. Specify dtype option on import or set low_memory=False.\n",
      "  rsp_df = pd.read_csv(\"../Data/processed/dataset_2016-19\")\n"
     ]
    }
   ],
   "source": [
    "rsp_df = pd.read_csv(\"../Data/processed/dataset_2016-19\")"
   ]
  },
  {
   "cell_type": "code",
   "execution_count": 51,
   "metadata": {},
   "outputs": [
    {
     "data": {
      "text/html": [
       "<div>\n",
       "<style scoped>\n",
       "    .dataframe tbody tr th:only-of-type {\n",
       "        vertical-align: middle;\n",
       "    }\n",
       "\n",
       "    .dataframe tbody tr th {\n",
       "        vertical-align: top;\n",
       "    }\n",
       "\n",
       "    .dataframe thead th {\n",
       "        text-align: right;\n",
       "    }\n",
       "</style>\n",
       "<table border=\"1\" class=\"dataframe\">\n",
       "  <thead>\n",
       "    <tr style=\"text-align: right;\">\n",
       "      <th></th>\n",
       "      <th>qn1jyear</th>\n",
       "      <th>qn18dyear</th>\n",
       "      <th>qn27byear</th>\n",
       "    </tr>\n",
       "  </thead>\n",
       "  <tbody>\n",
       "    <tr>\n",
       "      <th>0</th>\n",
       "      <td>2016 or later</td>\n",
       "      <td>NaN</td>\n",
       "      <td>2017.0</td>\n",
       "    </tr>\n",
       "    <tr>\n",
       "      <th>1</th>\n",
       "      <td>2016 or later</td>\n",
       "      <td>2016.0</td>\n",
       "      <td>NaN</td>\n",
       "    </tr>\n",
       "    <tr>\n",
       "      <th>2</th>\n",
       "      <td>2015.0</td>\n",
       "      <td>NaN</td>\n",
       "      <td>2016.0</td>\n",
       "    </tr>\n",
       "    <tr>\n",
       "      <th>3</th>\n",
       "      <td>2016 or later</td>\n",
       "      <td>2016.0</td>\n",
       "      <td>2017.0</td>\n",
       "    </tr>\n",
       "    <tr>\n",
       "      <th>4</th>\n",
       "      <td>2016 or later</td>\n",
       "      <td>2016.0</td>\n",
       "      <td>NaN</td>\n",
       "    </tr>\n",
       "  </tbody>\n",
       "</table>\n",
       "</div>"
      ],
      "text/plain": [
       "        qn1jyear qn18dyear qn27byear\n",
       "0  2016 or later       NaN    2017.0\n",
       "1  2016 or later    2016.0       NaN\n",
       "2         2015.0       NaN    2016.0\n",
       "3  2016 or later    2016.0    2017.0\n",
       "4  2016 or later    2016.0       NaN"
      ]
     },
     "execution_count": 51,
     "metadata": {},
     "output_type": "execute_result"
    }
   ],
   "source": [
    "rsp_df.iloc[:, [8, 34, 52]].head()  # Need to double-check these columns"
   ]
  },
  {
   "cell_type": "code",
   "execution_count": 57,
   "metadata": {},
   "outputs": [],
   "source": [
    "# Create target variable\n",
    "\n",
    "\n",
    "def create_target(x):\n",
    "    \"\"\"Creates a target variable based on if resettlement was fully successful or not\"\"\"\n",
    "\n",
    "    # CRITERIA:\n",
    "    # Subject is either employed or in education / training, unless they are not eligible\n",
    "    # Subject makes an income above the poverty level, if employed\n",
    "    # Subject is either a permanent legal resident or is planning to adjust status\n",
    "\n",
    "    poverty_thresholds = [11880, 16020, 20160, 24300, 28440]  # 2016 values\n",
    "\n",
    "    # Check that subject is not unemployed\n",
    "    if x[\"ui_emprate\"] in [\"unemployed\", \"don't know and/or refused\"]:\n",
    "        return 0\n",
    "\n",
    "    # If employed, check that target makes wage above poverty threshold for given household size\n",
    "    if x[\"ui_emprate\"] == \"employed\":\n",
    "        try:\n",
    "            if (\n",
    "                float(x[\"ui_qn8a_annual\"]) + float(x[\"ui_qn10a_annual\"])\n",
    "                < poverty_thresholds[int(x[\"numppl\"] - 1)]\n",
    "            ):\n",
    "                return 0\n",
    "        except ValueError:\n",
    "            return 0\n",
    "\n",
    "    # Check subject's residency status\n",
    "    if x[\"ui_lpr\"] not in [\n",
    "        \"already adjusted lpr status\",\n",
    "        \"plans to adjust lpr status in future\",\n",
    "    ]:\n",
    "        return 0\n",
    "\n",
    "    return 1\n",
    "\n",
    "\n",
    "rsp_df[\"t_resettlement\"] = rsp_df.apply(lambda x: create_target(x), axis=1)"
   ]
  },
  {
   "cell_type": "code",
   "execution_count": 58,
   "metadata": {},
   "outputs": [
    {
     "data": {
      "text/plain": [
       "t_resettlement\n",
       "1    2743\n",
       "0    1792\n",
       "Name: count, dtype: int64"
      ]
     },
     "execution_count": 58,
     "metadata": {},
     "output_type": "execute_result"
    }
   ],
   "source": [
    "# Show breakdown of target variable counts\n",
    "rsp_df[\"t_resettlement\"].value_counts()"
   ]
  },
  {
   "cell_type": "code",
   "execution_count": 59,
   "metadata": {},
   "outputs": [],
   "source": [
    "# Write output\n",
    "\n",
    "rsp_df.to_csv(\"../Data/processed/dataset_2016-19_target\", index=False)"
   ]
  }
 ],
 "metadata": {
  "kernelspec": {
   "display_name": ".venv",
   "language": "python",
   "name": "python3"
  },
  "language_info": {
   "codemirror_mode": {
    "name": "ipython",
    "version": 3
   },
   "file_extension": ".py",
   "mimetype": "text/x-python",
   "name": "python",
   "nbconvert_exporter": "python",
   "pygments_lexer": "ipython3",
   "version": "3.10.12"
  }
 },
 "nbformat": 4,
 "nbformat_minor": 2
}
