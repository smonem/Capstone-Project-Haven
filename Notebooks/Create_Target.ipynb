{
 "cells": [
  {
   "cell_type": "code",
   "execution_count": 1,
   "metadata": {},
   "outputs": [],
   "source": [
    "import pandas as pd"
   ]
  },
  {
   "cell_type": "code",
   "execution_count": 2,
   "metadata": {},
   "outputs": [],
   "source": [
    "rsp_df = pd.read_csv(\"../Data/processed/dataset_2016-19\")"
   ]
  },
  {
   "cell_type": "code",
   "execution_count": 4,
   "metadata": {},
   "outputs": [],
   "source": [
    "# Create target variable\n",
    "\n",
    "\n",
    "def create_target(x):\n",
    "    \"\"\"Creates a target variable based on if resettlement was fully successful or not\"\"\"\n",
    "\n",
    "    # CRITERIA:\n",
    "    # Subject is either employed or in education / training, unless they are not eligible\n",
    "    # Subject makes an income above the poverty level, if employed\n",
    "    # Subject is either a permanent legal resident or is planning to adjust status\n",
    "\n",
    "    poverty_thresholds = [11880, 16020, 20160, 24300, 28440]  # 2016 values\n",
    "\n",
    "    # Check that subject is not unemployed\n",
    "    if x[\"ui_emprate\"] in [\"unemployed\", \"don't know and/or refused\"]:\n",
    "        return 0\n",
    "\n",
    "    # If employed, check that target makes wage above poverty threshold for given household size\n",
    "    if x[\"ui_emprate\"] == \"employed\":\n",
    "        try:\n",
    "            if (\n",
    "                float(x[\"ui_qn8a_annual\"]) + float(x[\"ui_qn10a_annual\"])\n",
    "                < poverty_thresholds[int(x[\"numppl\"] - 1)]\n",
    "            ):\n",
    "                return 0\n",
    "        except ValueError:\n",
    "            return 0\n",
    "\n",
    "    # Check subject's residency status\n",
    "    if x[\"ui_lpr\"] not in [\n",
    "        \"already adjusted lpr status\",\n",
    "        \"plans to adjust lpr status in future\",\n",
    "    ]:\n",
    "        return 0\n",
    "\n",
    "    return 1\n",
    "\n",
    "\n",
    "rsp_df[\"t_resettlement\"] = rsp_df.apply(lambda x: create_target(x), axis=1)"
   ]
  },
  {
   "cell_type": "code",
   "execution_count": 5,
   "metadata": {},
   "outputs": [
    {
     "data": {
      "text/plain": [
       "t_resettlement\n",
       "1    2141\n",
       "0    1141\n",
       "Name: count, dtype: int64"
      ]
     },
     "execution_count": 5,
     "metadata": {},
     "output_type": "execute_result"
    }
   ],
   "source": [
    "# Show breakdown of target variable counts\n",
    "rsp_df[\"t_resettlement\"].value_counts()"
   ]
  },
  {
   "cell_type": "code",
   "execution_count": 6,
   "metadata": {},
   "outputs": [],
   "source": [
    "# Write output\n",
    "\n",
    "rsp_df.to_csv(\"../Data/processed/dataset_2016-19_target\", index=False)"
   ]
  }
 ],
 "metadata": {
  "kernelspec": {
   "display_name": ".venv",
   "language": "python",
   "name": "python3"
  },
  "language_info": {
   "codemirror_mode": {
    "name": "ipython",
    "version": 3
   },
   "file_extension": ".py",
   "mimetype": "text/x-python",
   "name": "python",
   "nbconvert_exporter": "python",
   "pygments_lexer": "ipython3",
   "version": "3.10.12"
  }
 },
 "nbformat": 4,
 "nbformat_minor": 2
}
