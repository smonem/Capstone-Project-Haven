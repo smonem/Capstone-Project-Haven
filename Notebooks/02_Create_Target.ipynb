{
 "cells": [
  {
   "cell_type": "code",
   "execution_count": 70,
   "metadata": {},
   "outputs": [],
   "source": [
    "import pandas as pd"
   ]
  },
  {
   "cell_type": "code",
   "execution_count": 71,
   "metadata": {},
   "outputs": [
    {
     "name": "stderr",
     "output_type": "stream",
     "text": [
      "C:\\Users\\Patrick\\AppData\\Local\\Temp\\ipykernel_17316\\2492198880.py:1: DtypeWarning: Columns (53) have mixed types. Specify dtype option on import or set low_memory=False.\n",
      "  rsp_df = pd.read_csv(\"../Data/processed/dataset_2016-19\")\n"
     ]
    }
   ],
   "source": [
    "rsp_df = pd.read_csv(\"../Data/processed/dataset_2016-19\")\n",
    "pt = pd.read_csv(\"../Data/misc/poverty_thresholds.csv\")"
   ]
  },
  {
   "cell_type": "code",
   "execution_count": 72,
   "metadata": {},
   "outputs": [],
   "source": [
    "# Create target variable\n",
    "\n",
    "\n",
    "def classify_resettlement(x):\n",
    "    \"\"\"Classifies if resettlement was fully successful or not\"\"\"\n",
    "\n",
    "    # CRITERIA:\n",
    "    # Subject is either employed or in education / training, unless they are not eligible\n",
    "    # Subject makes an income above the poverty level, if employed\n",
    "    # Subject is either a permanent legal resident or is planning to adjust status\n",
    "\n",
    "    # Gets poverty threshold data for year\n",
    "    thresholds = pt[pt[\"Year\"] == x[\"survey_year\"]].iloc[0].tolist()\n",
    "\n",
    "    # Check that subject is not unemployed\n",
    "    if x[\"ui_emprate\"] in [\"unemployed\", \"don't know and/or refused\"]:\n",
    "        return 0\n",
    "\n",
    "    # If employed, check that target makes wage above poverty threshold for given household size\n",
    "    if x[\"ui_emprate\"] == \"employed\":\n",
    "        try:\n",
    "            if (\n",
    "                float(x[\"ui_qn8a_annual\"]) + float(x[\"ui_qn10a_annual\"])\n",
    "                < thresholds[int(x[\"numppl\"] - 1)]\n",
    "            ):\n",
    "                return 0\n",
    "        except ValueError:\n",
    "            return 0\n",
    "\n",
    "    # Check subject's residency status\n",
    "    if x[\"ui_lpr\"] not in [\n",
    "        \"already adjusted lpr status\",\n",
    "        \"plans to adjust lpr status in future\",\n",
    "    ]:\n",
    "        return 0\n",
    "\n",
    "    # Check for people who are not in labor force\n",
    "    # People who gave up job search due to:\n",
    "    # limited english\n",
    "    # Unable to find work\n",
    "    if x[\"qn17_01\"] == \"limited english\":\n",
    "       return 0\n",
    "    if x[\"qn17_06\"] == \"tried to find work but couldn't\":\n",
    "       return 0\n",
    "\n",
    "    return 1\n",
    "\n",
    "\n",
    "rsp_df[\"t_resettlement\"] = rsp_df.apply(lambda x: classify_resettlement(x), axis=1)"
   ]
  },
  {
   "cell_type": "code",
   "execution_count": 73,
   "metadata": {},
   "outputs": [
    {
     "data": {
      "text/plain": [
       "t_resettlement\n",
       "1    3996\n",
       "0    1772\n",
       "Name: count, dtype: int64"
      ]
     },
     "execution_count": 73,
     "metadata": {},
     "output_type": "execute_result"
    }
   ],
   "source": [
    "# Show breakdown of target variable counts\n",
    "rsp_df[\"t_resettlement\"].value_counts()"
   ]
  },
  {
   "cell_type": "code",
   "execution_count": 74,
   "metadata": {},
   "outputs": [],
   "source": [
    "# Write output\n",
    "\n",
    "rsp_df.to_csv(\"../Data/processed/dataset_2016-19_target\", index=False)"
   ]
  },
  {
   "cell_type": "code",
   "execution_count": null,
   "metadata": {},
   "outputs": [],
   "source": []
  }
 ],
 "metadata": {
  "kernelspec": {
   "display_name": "Python 3 (ipykernel)",
   "language": "python",
   "name": "python3"
  },
  "language_info": {
   "codemirror_mode": {
    "name": "ipython",
    "version": 3
   },
   "file_extension": ".py",
   "mimetype": "text/x-python",
   "name": "python",
   "nbconvert_exporter": "python",
   "pygments_lexer": "ipython3",
   "version": "3.11.5"
  }
 },
 "nbformat": 4,
 "nbformat_minor": 2
}
